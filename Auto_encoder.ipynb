{
  "nbformat": 4,
  "nbformat_minor": 0,
  "metadata": {
    "colab": {
      "name": "Auto-encoder.ipynb",
      "provenance": [],
      "collapsed_sections": [],
      "include_colab_link": true
    },
    "kernelspec": {
      "name": "python3",
      "display_name": "Python 3"
    },
    "accelerator": "GPU"
  },
  "cells": [
    {
      "cell_type": "markdown",
      "metadata": {
        "id": "view-in-github",
        "colab_type": "text"
      },
      "source": [
        "<a href=\"https://colab.research.google.com/github/akalakheti/Auto_encoder/blob/master/Auto_encoder.ipynb\" target=\"_parent\"><img src=\"https://colab.research.google.com/assets/colab-badge.svg\" alt=\"Open In Colab\"/></a>"
      ]
    },
    {
      "cell_type": "code",
      "metadata": {
        "id": "EVEso4oNTWPs",
        "colab_type": "code",
        "colab": {}
      },
      "source": [
        "!pip install tensorflow-gpu==2.0.0 #tf2 install"
      ],
      "execution_count": 0,
      "outputs": []
    },
    {
      "cell_type": "markdown",
      "metadata": {
        "id": "eKlXH2GU6cvG",
        "colab_type": "text"
      },
      "source": [
        "# Import tf.keras libraries"
      ]
    },
    {
      "cell_type": "code",
      "metadata": {
        "id": "SduBNJq8xril",
        "colab_type": "code",
        "colab": {}
      },
      "source": [
        "#import tf.keras libraries\n",
        "from tensorflow.keras.datasets import fashion_mnist\n",
        "from tensorflow.keras.models import Model\n",
        "from tensorflow.keras.layers import Input, Conv2D,Dense, MaxPooling2D, UpSampling2D "
      ],
      "execution_count": 0,
      "outputs": []
    },
    {
      "cell_type": "markdown",
      "metadata": {
        "id": "_xz-w3kF6j98",
        "colab_type": "text"
      },
      "source": [
        "#Import required libraries"
      ]
    },
    {
      "cell_type": "code",
      "metadata": {
        "id": "Dm2xfi6r24CS",
        "colab_type": "code",
        "colab": {}
      },
      "source": [
        "\n",
        "import tensorflow as tf\n",
        "import numpy as np\n",
        "import matplotlib.pyplot as plt"
      ],
      "execution_count": 0,
      "outputs": []
    },
    {
      "cell_type": "markdown",
      "metadata": {
        "id": "0ISLiezY6pns",
        "colab_type": "text"
      },
      "source": [
        "From tf.keras.datasets, fashion_mnist dataset is loaded. We separate train and test data but omit the labels of both as this is an unsupervised learning model."
      ]
    },
    {
      "cell_type": "code",
      "metadata": {
        "id": "iGD_ivV17gAS",
        "colab_type": "code",
        "outputId": "2f86f981-25a5-4312-f775-2f9d1dfe989f",
        "colab": {
          "base_uri": "https://localhost:8080/",
          "height": 151
        }
      },
      "source": [
        "(train_data,_), (test_data,_) = fashion_mnist.load_data()  #download fashion mnist dataset and separate train and test set"
      ],
      "execution_count": 0,
      "outputs": [
        {
          "output_type": "stream",
          "text": [
            "Downloading data from https://storage.googleapis.com/tensorflow/tf-keras-datasets/train-labels-idx1-ubyte.gz\n",
            "32768/29515 [=================================] - 0s 0us/step\n",
            "Downloading data from https://storage.googleapis.com/tensorflow/tf-keras-datasets/train-images-idx3-ubyte.gz\n",
            "26427392/26421880 [==============================] - 0s 0us/step\n",
            "Downloading data from https://storage.googleapis.com/tensorflow/tf-keras-datasets/t10k-labels-idx1-ubyte.gz\n",
            "8192/5148 [===============================================] - 0s 0us/step\n",
            "Downloading data from https://storage.googleapis.com/tensorflow/tf-keras-datasets/t10k-images-idx3-ubyte.gz\n",
            "4423680/4422102 [==============================] - 0s 0us/step\n"
          ],
          "name": "stdout"
        }
      ]
    },
    {
      "cell_type": "markdown",
      "metadata": {
        "id": "NBytgIpk7AAU",
        "colab_type": "text"
      },
      "source": [
        "As we require to normalize the dataset to a value between 0 to 1, we divide the image by 255.0 and also increase the dimension of the image from 2D to 3D as the model requires so."
      ]
    },
    {
      "cell_type": "code",
      "metadata": {
        "id": "5W5ZkS3e6Izz",
        "colab_type": "code",
        "colab": {}
      },
      "source": [
        "#function to normalize and reize the image according to need\n",
        "def scale(image):\n",
        "  image = image.astype('float32')/255.0\n",
        "  image = np.reshape(image, (len(image),28,28,1))\n",
        "  return image"
      ],
      "execution_count": 0,
      "outputs": []
    },
    {
      "cell_type": "code",
      "metadata": {
        "id": "qvInGwuz7__K",
        "colab_type": "code",
        "colab": {}
      },
      "source": [
        "train = scale(train_data)\n",
        "test = scale(test_data)"
      ],
      "execution_count": 0,
      "outputs": []
    },
    {
      "cell_type": "markdown",
      "metadata": {
        "id": "DysL-XPr7URk",
        "colab_type": "text"
      },
      "source": [
        "We create a placeholder input image for creating the model with dimensions 28x28x1."
      ]
    },
    {
      "cell_type": "code",
      "metadata": {
        "id": "fimUg4uJ9ZPS",
        "colab_type": "code",
        "colab": {}
      },
      "source": [
        "img = Input(shape=(28,28,1)) #Dummy input image for model"
      ],
      "execution_count": 0,
      "outputs": []
    },
    {
      "cell_type": "markdown",
      "metadata": {
        "id": "1Jcr3-ZB7cOU",
        "colab_type": "text"
      },
      "source": [
        "## Encoder\n",
        "The first layer of the encoder is Convolutional layer followed by max pooling which downsamples the image. The encoder ends after max pooling."
      ]
    },
    {
      "cell_type": "code",
      "metadata": {
        "id": "gvvRP1MD8HwJ",
        "colab_type": "code",
        "colab": {}
      },
      "source": [
        "#Encoder model creation starts\n",
        "layer = Conv2D(filters=32, kernel_size=(3,3), activation='relu', padding='same')(img) #convolutional layer of encoder"
      ],
      "execution_count": 0,
      "outputs": []
    },
    {
      "cell_type": "code",
      "metadata": {
        "id": "9ucvIRgS9gYp",
        "colab_type": "code",
        "colab": {}
      },
      "source": [
        "encoded = MaxPooling2D((2,2), padding='same')(layer)"
      ],
      "execution_count": 0,
      "outputs": []
    },
    {
      "cell_type": "markdown",
      "metadata": {
        "id": "S8ts5vLR70eU",
        "colab_type": "text"
      },
      "source": [
        "## Decoder\n",
        "The first layer of decoder is also convolutional layer followed by upsampling layer so as the balance the effect by down sampling in encoder. The decoder ends with the final convolutional layer with sigmoid activation function."
      ]
    },
    {
      "cell_type": "code",
      "metadata": {
        "id": "QdRGols_92mw",
        "colab_type": "code",
        "colab": {}
      },
      "source": [
        "#Decoder Layer starts\n",
        "layer = Conv2D(32,(3,3), activation = 'relu', padding='same')(encoded) #Convolutional layer of decoder"
      ],
      "execution_count": 0,
      "outputs": []
    },
    {
      "cell_type": "code",
      "metadata": {
        "id": "Z22Hcnvw-vVI",
        "colab_type": "code",
        "colab": {}
      },
      "source": [
        "layer = UpSampling2D((2,2))(layer)"
      ],
      "execution_count": 0,
      "outputs": []
    },
    {
      "cell_type": "code",
      "metadata": {
        "id": "n56gSQqd-zwB",
        "colab_type": "code",
        "colab": {}
      },
      "source": [
        "decoded = Conv2D(1,(3,3), activation='sigmoid', padding='same')(layer) "
      ],
      "execution_count": 0,
      "outputs": []
    },
    {
      "cell_type": "code",
      "metadata": {
        "id": "XKZS70C7_QKA",
        "colab_type": "code",
        "colab": {}
      },
      "source": [
        "model = Model(inputs=img, outputs=decoded) #group the created model"
      ],
      "execution_count": 0,
      "outputs": []
    },
    {
      "cell_type": "markdown",
      "metadata": {
        "id": "gR1KPTMA8ovs",
        "colab_type": "text"
      },
      "source": [
        "The above created model is compiled with ada delta optimizer and binary cross entropy as loss function."
      ]
    },
    {
      "cell_type": "code",
      "metadata": {
        "id": "P97GRv3Z_ikn",
        "colab_type": "code",
        "colab": {}
      },
      "source": [
        "model.compile(optimizer='adadelta', loss='binary_crossentropy') #compiling the created model"
      ],
      "execution_count": 0,
      "outputs": []
    },
    {
      "cell_type": "markdown",
      "metadata": {
        "id": "n5W379_y8yp7",
        "colab_type": "text"
      },
      "source": [
        "A Checkpoint is created so as to save the training progress after each epoch"
      ]
    },
    {
      "cell_type": "code",
      "metadata": {
        "id": "hKGyG_QmBDyx",
        "colab_type": "code",
        "colab": {}
      },
      "source": [
        "checkpoint = tf.keras.callbacks.ModelCheckpoint(filepath='checkpoint.ckpt',\n",
        "                                                 save_weights_only=True,\n",
        "                                                 verbose=1) #Checkpointing the training progress"
      ],
      "execution_count": 0,
      "outputs": []
    },
    {
      "cell_type": "markdown",
      "metadata": {
        "id": "tN4sIg4w85lk",
        "colab_type": "text"
      },
      "source": [
        "The actual training of model starts."
      ]
    },
    {
      "cell_type": "code",
      "metadata": {
        "id": "_uVsfgnb_tQh",
        "colab_type": "code",
        "outputId": "02f84907-7ada-4ea1-db9e-7aa83089e1af",
        "colab": {
          "base_uri": "https://localhost:8080/",
          "height": 1000
        }
      },
      "source": [
        "model.fit(train,train,epochs=40,batch_size=256, callbacks=[checkpoint], shuffle=True, validation_data=(test,test)) #Training the model"
      ],
      "execution_count": 0,
      "outputs": [
        {
          "output_type": "stream",
          "text": [
            "Train on 60000 samples, validate on 10000 samples\n",
            "Epoch 1/40\n",
            "59136/60000 [============================>.] - ETA: 0s - loss: 0.6945\n",
            "Epoch 00001: saving model to checkpoint.ckpt\n",
            "60000/60000 [==============================] - 7s 124us/sample - loss: 0.6945 - val_loss: 0.6935\n",
            "Epoch 2/40\n",
            "59136/60000 [============================>.] - ETA: 0s - loss: 0.6925\n",
            "Epoch 00002: saving model to checkpoint.ckpt\n",
            "60000/60000 [==============================] - 4s 67us/sample - loss: 0.6925 - val_loss: 0.6914\n",
            "Epoch 3/40\n",
            "59392/60000 [============================>.] - ETA: 0s - loss: 0.6903\n",
            "Epoch 00003: saving model to checkpoint.ckpt\n",
            "60000/60000 [==============================] - 4s 67us/sample - loss: 0.6903 - val_loss: 0.6891\n",
            "Epoch 4/40\n",
            "59136/60000 [============================>.] - ETA: 0s - loss: 0.6879\n",
            "Epoch 00004: saving model to checkpoint.ckpt\n",
            "60000/60000 [==============================] - 4s 68us/sample - loss: 0.6879 - val_loss: 0.6867\n",
            "Epoch 5/40\n",
            "59392/60000 [============================>.] - ETA: 0s - loss: 0.6854\n",
            "Epoch 00005: saving model to checkpoint.ckpt\n",
            "60000/60000 [==============================] - 4s 67us/sample - loss: 0.6854 - val_loss: 0.6841\n",
            "Epoch 6/40\n",
            "59904/60000 [============================>.] - ETA: 0s - loss: 0.6827\n",
            "Epoch 00006: saving model to checkpoint.ckpt\n",
            "60000/60000 [==============================] - 4s 68us/sample - loss: 0.6827 - val_loss: 0.6814\n",
            "Epoch 7/40\n",
            "59648/60000 [============================>.] - ETA: 0s - loss: 0.6798\n",
            "Epoch 00007: saving model to checkpoint.ckpt\n",
            "60000/60000 [==============================] - 4s 68us/sample - loss: 0.6798 - val_loss: 0.6784\n",
            "Epoch 8/40\n",
            "59392/60000 [============================>.] - ETA: 0s - loss: 0.6767\n",
            "Epoch 00008: saving model to checkpoint.ckpt\n",
            "60000/60000 [==============================] - 4s 67us/sample - loss: 0.6767 - val_loss: 0.6751\n",
            "Epoch 9/40\n",
            "59136/60000 [============================>.] - ETA: 0s - loss: 0.6732\n",
            "Epoch 00009: saving model to checkpoint.ckpt\n",
            "60000/60000 [==============================] - 4s 68us/sample - loss: 0.6732 - val_loss: 0.6715\n",
            "Epoch 10/40\n",
            "59648/60000 [============================>.] - ETA: 0s - loss: 0.6694\n",
            "Epoch 00010: saving model to checkpoint.ckpt\n",
            "60000/60000 [==============================] - 4s 69us/sample - loss: 0.6694 - val_loss: 0.6675\n",
            "Epoch 11/40\n",
            "59904/60000 [============================>.] - ETA: 0s - loss: 0.6651\n",
            "Epoch 00011: saving model to checkpoint.ckpt\n",
            "60000/60000 [==============================] - 4s 67us/sample - loss: 0.6651 - val_loss: 0.6630\n",
            "Epoch 12/40\n",
            "59648/60000 [============================>.] - ETA: 0s - loss: 0.6603\n",
            "Epoch 00012: saving model to checkpoint.ckpt\n",
            "60000/60000 [==============================] - 4s 66us/sample - loss: 0.6603 - val_loss: 0.6579\n",
            "Epoch 13/40\n",
            "59392/60000 [============================>.] - ETA: 0s - loss: 0.6549\n",
            "Epoch 00013: saving model to checkpoint.ckpt\n",
            "60000/60000 [==============================] - 4s 67us/sample - loss: 0.6549 - val_loss: 0.6521\n",
            "Epoch 14/40\n",
            "59648/60000 [============================>.] - ETA: 0s - loss: 0.6487\n",
            "Epoch 00014: saving model to checkpoint.ckpt\n",
            "60000/60000 [==============================] - 4s 66us/sample - loss: 0.6487 - val_loss: 0.6455\n",
            "Epoch 15/40\n",
            "59904/60000 [============================>.] - ETA: 0s - loss: 0.6415\n",
            "Epoch 00015: saving model to checkpoint.ckpt\n",
            "60000/60000 [==============================] - 4s 67us/sample - loss: 0.6415 - val_loss: 0.6379\n",
            "Epoch 16/40\n",
            "59648/60000 [============================>.] - ETA: 0s - loss: 0.6334\n",
            "Epoch 00016: saving model to checkpoint.ckpt\n",
            "60000/60000 [==============================] - 4s 66us/sample - loss: 0.6334 - val_loss: 0.6292\n",
            "Epoch 17/40\n",
            "59904/60000 [============================>.] - ETA: 0s - loss: 0.6241\n",
            "Epoch 00017: saving model to checkpoint.ckpt\n",
            "60000/60000 [==============================] - 4s 67us/sample - loss: 0.6241 - val_loss: 0.6194\n",
            "Epoch 18/40\n",
            "59136/60000 [============================>.] - ETA: 0s - loss: 0.6136\n",
            "Epoch 00018: saving model to checkpoint.ckpt\n",
            "60000/60000 [==============================] - 4s 67us/sample - loss: 0.6135 - val_loss: 0.6082\n",
            "Epoch 19/40\n",
            "59648/60000 [============================>.] - ETA: 0s - loss: 0.6016\n",
            "Epoch 00019: saving model to checkpoint.ckpt\n",
            "60000/60000 [==============================] - 4s 67us/sample - loss: 0.6015 - val_loss: 0.5955\n",
            "Epoch 20/40\n",
            "59136/60000 [============================>.] - ETA: 0s - loss: 0.5880\n",
            "Epoch 00020: saving model to checkpoint.ckpt\n",
            "60000/60000 [==============================] - 4s 67us/sample - loss: 0.5879 - val_loss: 0.5811\n",
            "Epoch 21/40\n",
            "59136/60000 [============================>.] - ETA: 0s - loss: 0.5726\n",
            "Epoch 00021: saving model to checkpoint.ckpt\n",
            "60000/60000 [==============================] - 4s 67us/sample - loss: 0.5725 - val_loss: 0.5648\n",
            "Epoch 22/40\n",
            "59136/60000 [============================>.] - ETA: 0s - loss: 0.5554\n",
            "Epoch 00022: saving model to checkpoint.ckpt\n",
            "60000/60000 [==============================] - 4s 67us/sample - loss: 0.5553 - val_loss: 0.5468\n",
            "Epoch 23/40\n",
            "59904/60000 [============================>.] - ETA: 0s - loss: 0.5364\n",
            "Epoch 00023: saving model to checkpoint.ckpt\n",
            "60000/60000 [==============================] - 4s 66us/sample - loss: 0.5364 - val_loss: 0.5273\n",
            "Epoch 24/40\n",
            "59392/60000 [============================>.] - ETA: 0s - loss: 0.5163\n",
            "Epoch 00024: saving model to checkpoint.ckpt\n",
            "60000/60000 [==============================] - 4s 66us/sample - loss: 0.5162 - val_loss: 0.5068\n",
            "Epoch 25/40\n",
            "59136/60000 [============================>.] - ETA: 0s - loss: 0.4954\n",
            "Epoch 00025: saving model to checkpoint.ckpt\n",
            "60000/60000 [==============================] - 4s 66us/sample - loss: 0.4953 - val_loss: 0.4858\n",
            "Epoch 26/40\n",
            "59648/60000 [============================>.] - ETA: 0s - loss: 0.4744\n",
            "Epoch 00026: saving model to checkpoint.ckpt\n",
            "60000/60000 [==============================] - 4s 67us/sample - loss: 0.4743 - val_loss: 0.4652\n",
            "Epoch 27/40\n",
            "59648/60000 [============================>.] - ETA: 0s - loss: 0.4540\n",
            "Epoch 00027: saving model to checkpoint.ckpt\n",
            "60000/60000 [==============================] - 4s 66us/sample - loss: 0.4539 - val_loss: 0.4455\n",
            "Epoch 28/40\n",
            "59136/60000 [============================>.] - ETA: 0s - loss: 0.4350\n",
            "Epoch 00028: saving model to checkpoint.ckpt\n",
            "60000/60000 [==============================] - 4s 66us/sample - loss: 0.4348 - val_loss: 0.4273\n",
            "Epoch 29/40\n",
            "59648/60000 [============================>.] - ETA: 0s - loss: 0.4176\n",
            "Epoch 00029: saving model to checkpoint.ckpt\n",
            "60000/60000 [==============================] - 4s 67us/sample - loss: 0.4175 - val_loss: 0.4111\n",
            "Epoch 30/40\n",
            "59136/60000 [============================>.] - ETA: 0s - loss: 0.4024\n",
            "Epoch 00030: saving model to checkpoint.ckpt\n",
            "60000/60000 [==============================] - 4s 67us/sample - loss: 0.4023 - val_loss: 0.3971\n",
            "Epoch 31/40\n",
            "59904/60000 [============================>.] - ETA: 0s - loss: 0.3894\n",
            "Epoch 00031: saving model to checkpoint.ckpt\n",
            "60000/60000 [==============================] - 4s 67us/sample - loss: 0.3894 - val_loss: 0.3853\n",
            "Epoch 32/40\n",
            "59392/60000 [============================>.] - ETA: 0s - loss: 0.3785\n",
            "Epoch 00032: saving model to checkpoint.ckpt\n",
            "60000/60000 [==============================] - 4s 67us/sample - loss: 0.3785 - val_loss: 0.3755\n",
            "Epoch 33/40\n",
            "59392/60000 [============================>.] - ETA: 0s - loss: 0.3695\n",
            "Epoch 00033: saving model to checkpoint.ckpt\n",
            "60000/60000 [==============================] - 4s 66us/sample - loss: 0.3695 - val_loss: 0.3674\n",
            "Epoch 34/40\n",
            "59904/60000 [============================>.] - ETA: 0s - loss: 0.3621\n",
            "Epoch 00034: saving model to checkpoint.ckpt\n",
            "60000/60000 [==============================] - 4s 67us/sample - loss: 0.3621 - val_loss: 0.3608\n",
            "Epoch 35/40\n",
            "59392/60000 [============================>.] - ETA: 0s - loss: 0.3561\n",
            "Epoch 00035: saving model to checkpoint.ckpt\n",
            "60000/60000 [==============================] - 4s 67us/sample - loss: 0.3560 - val_loss: 0.3553\n",
            "Epoch 36/40\n",
            "59136/60000 [============================>.] - ETA: 0s - loss: 0.3511\n",
            "Epoch 00036: saving model to checkpoint.ckpt\n",
            "60000/60000 [==============================] - 4s 67us/sample - loss: 0.3510 - val_loss: 0.3508\n",
            "Epoch 37/40\n",
            "59648/60000 [============================>.] - ETA: 0s - loss: 0.3469\n",
            "Epoch 00037: saving model to checkpoint.ckpt\n",
            "60000/60000 [==============================] - 4s 67us/sample - loss: 0.3468 - val_loss: 0.3469\n",
            "Epoch 38/40\n",
            "59392/60000 [============================>.] - ETA: 0s - loss: 0.3433\n",
            "Epoch 00038: saving model to checkpoint.ckpt\n",
            "60000/60000 [==============================] - 4s 67us/sample - loss: 0.3432 - val_loss: 0.3436\n",
            "Epoch 39/40\n",
            "59392/60000 [============================>.] - ETA: 0s - loss: 0.3402\n",
            "Epoch 00039: saving model to checkpoint.ckpt\n",
            "60000/60000 [==============================] - 4s 67us/sample - loss: 0.3402 - val_loss: 0.3408\n",
            "Epoch 40/40\n",
            "59136/60000 [============================>.] - ETA: 0s - loss: 0.3374\n",
            "Epoch 00040: saving model to checkpoint.ckpt\n",
            "60000/60000 [==============================] - 4s 67us/sample - loss: 0.3374 - val_loss: 0.3382\n"
          ],
          "name": "stdout"
        },
        {
          "output_type": "execute_result",
          "data": {
            "text/plain": [
              "<tensorflow.python.keras.callbacks.History at 0x7f8a7029ce80>"
            ]
          },
          "metadata": {
            "tags": []
          },
          "execution_count": 17
        }
      ]
    },
    {
      "cell_type": "markdown",
      "metadata": {
        "id": "nKr1-nNK9RLt",
        "colab_type": "text"
      },
      "source": [
        "The model is used to create prediction or decode the inputted image."
      ]
    },
    {
      "cell_type": "code",
      "metadata": {
        "id": "MvhLVGt-U2mD",
        "colab_type": "code",
        "colab": {}
      },
      "source": [
        "output = model.predict(test) #Prediction from the model"
      ],
      "execution_count": 0,
      "outputs": []
    },
    {
      "cell_type": "markdown",
      "metadata": {
        "id": "UlFnJ0BLbJYE",
        "colab_type": "text"
      },
      "source": [
        "Using matplotlib.pyplot, we will be visualizing the predicted image and actual image.\n",
        "# Actual Image\n"
      ]
    },
    {
      "cell_type": "code",
      "metadata": {
        "id": "JSnzQ5ueAQQz",
        "colab_type": "code",
        "outputId": "19dfdb46-e8fb-41fd-dbaf-5c1634c57f2e",
        "colab": {
          "base_uri": "https://localhost:8080/",
          "height": 149
        }
      },
      "source": [
        "n_items=10\n",
        "plt.figure(figsize=(20,4))\n",
        "for i in range(n_items):\n",
        "  displayer = plt.subplot(2,n_items,i+1)\n",
        "  plt.imshow(test[i].reshape(28,28))\n",
        "  plt.gray()\n",
        "  displayer.get_xaxis().set_visible(False)\n",
        "  displayer.get_yaxis().set_visible(False)\n"
      ],
      "execution_count": 0,
      "outputs": [
        {
          "output_type": "display_data",
          "data": {
            "image/png": "[encoded data removed]",
            "text/plain": [
              "<Figure size 1440x288 with 10 Axes>"
            ]
          },
          "metadata": {
            "tags": []
          }
        }
      ]
    },
    {
      "cell_type": "markdown",
      "metadata": {
        "id": "sU-hEcchbN48",
        "colab_type": "text"
      },
      "source": [
        "# Predicted Image"
      ]
    },
    {
      "cell_type": "code",
      "metadata": {
        "id": "e9BVXzv_UCVr",
        "colab_type": "code",
        "outputId": "7152b995-af33-463c-a872-fc389ac21706",
        "colab": {
          "base_uri": "https://localhost:8080/",
          "height": 149
        }
      },
      "source": [
        "plt.figure(figsize=(20,4))\n",
        "for i in range(n_items):\n",
        "  displayer2 = plt.subplot(2,n_items,i+1)\n",
        "  \n",
        "  plt.imshow(output[i].reshape(28,28))\n",
        "  plt.gray()\n",
        "  displayer2.get_xaxis().set_visible(False)\n",
        "  displayer2.get_yaxis().set_visible(False)"
      ],
      "execution_count": 0,
      "outputs": [
        {
          "output_type": "display_data",
          "data": {
            "image/png": "[encoded data removed]",
            "text/plain": [
              "<Figure size 1440x288 with 10 Axes>"
            ]
          },
          "metadata": {
            "tags": []
          }
        }
      ]
    },
    {
      "cell_type": "code",
      "metadata": {
        "id": "GJi7W8btbFy1",
        "colab_type": "code",
        "colab": {}
      },
      "source": [
        ""
      ],
      "execution_count": 0,
      "outputs": []
    }
  ]
}